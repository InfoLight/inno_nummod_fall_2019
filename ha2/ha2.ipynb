{
  "nbformat": 4,
  "nbformat_minor": 0,
  "metadata": {
    "kernelspec": {
      "display_name": "Python 3",
      "language": "python",
      "name": "python3"
    },
    "language_info": {
      "codemirror_mode": {
        "name": "ipython",
        "version": 3
      },
      "file_extension": ".py",
      "mimetype": "text/x-python",
      "name": "python",
      "nbconvert_exporter": "python",
      "pygments_lexer": "ipython3",
      "version": "3.6.8"
    },
    "colab": {
      "name": "ha2.ipynb",
      "provenance": []
    }
  },
  "cells": [
    {
      "cell_type": "code",
      "metadata": {
        "id": "RO4_5Qemi1wZ",
        "colab_type": "code",
        "colab": {}
      },
      "source": [
        "import sympy as sp\n",
        "import numpy as np\n",
        "import matplotlib.pyplot as plt"
      ],
      "execution_count": 0,
      "outputs": []
    },
    {
      "cell_type": "markdown",
      "metadata": {
        "id": "XMtYP1Zvi1wd",
        "colab_type": "text"
      },
      "source": [
        "### 1. Formulate the statement of the interpolation problem with Cubic Spline [mathematical formula]"
      ]
    },
    {
      "cell_type": "markdown",
      "metadata": {
        "id": "z2JAQtkZ-AUV",
        "colab_type": "text"
      },
      "source": [
        "$S_3(x)=\\bigcup_{i=0}^{n-1}S_{3,i}(x)\\in C_2[a,b]$"
      ]
    },
    {
      "cell_type": "markdown",
      "metadata": {
        "id": "m4Vu_I8si1wh",
        "colab_type": "text"
      },
      "source": [
        "### 2. Formulate the functional and differential compatibility conditions [mathematical formula]"
      ]
    },
    {
      "cell_type": "markdown",
      "metadata": {
        "id": "sLnPokgy-e0B",
        "colab_type": "text"
      },
      "source": [
        "Functional:\n",
        "\n",
        "$\\delta S_{3,i}(x)|_{x=x_i}=S_{3,i}(x_i)-f(x_i)=0$\n",
        "\n",
        "$\\delta S_{3,i}(x)|_{x=x_i+1}=S_{3,i}(x_{i+1})-f(x_{i+1})=0$\n",
        "\n",
        "Differential:\n",
        "\n",
        "$\\delta S''_{3,i}(x)|_{x=x_i}=S''_{3,i}(x_i)-f''(x_i)=0$\n",
        "\n",
        "$\\delta S''_{3,i}(x)|_{x=x_i+1}=S''_{3,i}(x_{i+1})-f''(x_{i+1})=0$\n",
        "\n",
        "\n",
        "\n",
        "\n",
        "\n",
        "\n",
        "\n",
        "\n"
      ]
    },
    {
      "cell_type": "markdown",
      "metadata": {
        "id": "LV_4Mj2Ti1wm",
        "colab_type": "text"
      },
      "source": [
        "### 3. Formulate stitching conditions [mathematical formula]"
      ]
    },
    {
      "cell_type": "markdown",
      "metadata": {
        "id": "D2wEpoiQBLN1",
        "colab_type": "text"
      },
      "source": [
        "$S_{m,i-1}^{(p2)}(x)\\mid_{x=x_i}=S_{m,i}^{(p2)}(x)\\mid_{x=x_i},i=\\overline{1..n-1}$"
      ]
    },
    {
      "cell_type": "markdown",
      "metadata": {
        "id": "87sxGSI5i1wo",
        "colab_type": "text"
      },
      "source": [
        "### 4. Justify why these conditions provide you with the required smoothness [thesis text, no more than 500 characters]"
      ]
    },
    {
      "cell_type": "markdown",
      "metadata": {
        "id": "56mS8LZJBKDD",
        "colab_type": "text"
      },
      "source": [
        "Functional condition provides a solution to the interpolation problem.\n",
        "Stiching conditions tell that the result function is continuous.\n",
        "Differential conditions tell that result function has second derivative."
      ]
    },
    {
      "cell_type": "markdown",
      "metadata": {
        "id": "fvem6Ywfi1wr",
        "colab_type": "text"
      },
      "source": [
        "### 5. Derive dependency formula: the dependence of the second derivatives at the grid nodes on the increment of the function (the function values difference on the grid nodes). [Mathematical formulas derivation. Detailed, with clear transitions]"
      ]
    },
    {
      "cell_type": "markdown",
      "metadata": {
        "id": "6wLfdlrQMiBh",
        "colab_type": "text"
      },
      "source": [
        "$ S_{3,i}(x) = a_{0,i} + a_{1,i}(x-x_i) + a_{2,i}(x-x_i)^2 + a_{3,i}(x-x_i)^3 $\n",
        "\n",
        "$ S_{3,i}'(x)= a_{1,i} + 2a_{2,i}(x-x_i) + 3a_{3,i}(x-x_i)^2 $\n",
        "\n",
        "$ S_{3,i}''(x)= 2a_{2,i} + 6a_{3,i}(x-x_i) $ \n",
        "\n",
        "$\\text{Differential compatibility conditions:}\\: y'' = y_1''\\: at\\: x = x_1\\: and \\:y'' = y_2'' \\:at\\: x = x_2$\n",
        "\n",
        "$ S_{3,1}''(x_1)= 2a_{2,1} + 6a_{3,1}(x_1-x_1) = 2a_{2,1} $\n",
        "\n",
        "$ S_{3,2}''(x_2)= S_{3,1}''(x_1) + 6a_{3,1}(x_2-x_1)$\n",
        "\n",
        "$ a_{3,i} = \\frac{(S_{3,2}''(x)- S_{3,1}''(x))}{6(x_2-x_1)} $ \n",
        "\n",
        "$\\text{Resulting in the following equation for 2d derivative:}$\n",
        "\n",
        "$ S_{3,1}''(x)= S_{3,1}''(x) + \\frac{(S_{3,2}''(x)- S_{3,1}''(x))(x-x_1)}{x_2 - x_1} $\n",
        "\n",
        "$\\text{Functional compatibility conditions:}\\: y_1 = S(x1)$ and $ y_2 = S(x_2)$\n",
        "\n",
        "$ S_{3,1}(x_1) = a_{0,1} + a_{1,1}(x_1-x_1) + a_{2,1}(x_1-x_1)^2 + a_{3,i}(x_1-x_1)^3 = a_{0,1} $\n",
        "\n",
        "$ S_{3,2}(x_2) = S_{3,1}(x_1) + a_{1,1}(x_2-x_1) + \\frac{S_{3,1}''(x_1)(x_2-x_1)^2}{2} + \\frac{(S_{3,2}''(x_2)- S_{3,1}''(x_1))}{6(x_2-x_1)}(x_2-x_1)^3 $\n",
        "\n",
        "$ S_{3,2}(x_2) - S_{3,1}(x_1) =  a_{1,1}(x_2-x_1) + \\frac{S_{3,1}''(x_1)(x_2-x_1)^2}{2} - \\frac{S_{3,1}''(x_1)(x_2-x_1)^2}{6}+ \\frac{S_{3,2}''(x_2)(x_2-x_1)^2}{6} $\n",
        "\n",
        "$ a_{1,1} = \\frac{S_{3,2}(x_2) - S_{3,1}(x_1)}{(x_2-x_1)}-\\frac{S_{3,2}''(x_2)(x_2-x_1)^2}{6} - \\frac{S_{3,1}''(x_1)(x_2-x_1)}{3} $\n",
        "\n",
        "$\\text{Stitching compatibility conditions:}\\: $\n",
        "\n",
        "$  a_{1,1} + 2a_{2,1}(x_2-x_1) + 3a_{3,1}(x_2-x_1)^2 = a_{1,2} + 2a_{2,2}(x_2-x_2) + 3a_{3,2}(x_2-x_2)^2 $ \n",
        "\n",
        "$  a_{1,1} + 2a_{2,1}(x_2-x_1) + 3a_{3,1}(x_2-x_1)^2 = a_{1,2} $\n",
        "\n",
        "$\\text{Calculate previous steps for next spline:}$\n",
        "\n",
        "$ h_1 = (x_2-x_1)$\n",
        "\n",
        "$ h_2 = (x_3-x_2)$\n",
        "\n",
        "$\\text{As we got parameters in previous steps, put them inside the first formula and get the final equation}$\n",
        "\n",
        "$ \\frac{h_1(S_{3,2}''(x_2)- S_{3,1}''(x_1))}{2} + S_{3,1}''(x_1)h_1 +  \\frac{(S_{3,2}(x_2)- S_{3,1}(x_1))}{h_1} - \\frac{S_{3,2}''(x_2)h_1}{6}- \\frac{S_{3,1}''(x_1)h_1}{3} = \\frac{S_{3,3}(x_3)- S_{3,2}''(x_2)}{h_2} - \\frac{S_{3,3}''(x_3)h_2}{6}- \\frac{S_{3,2}''(x_2)h_2}{3}$\n",
        "\n",
        "$\\text{Simplification of the equation above lead us to the formula:}$\n",
        "\n",
        "$S_{3,1}''(x_1)h_1 + 2(h_1+h_2)S_{3,2}''(x_2) + S_{3,3}''(x_3)h_2 = 6\\left[\\frac{(S_{3,3}(x_3)-S_{3,2}(x_2))}{h_2} - \\frac{(S_{3,2}(x_2)-S_{3,1}(x_1))}{h_1}\\right]$\n",
        "\n",
        "$ \\text{Generalize equation:}$\n",
        "\n",
        "$x_1 -> x_i$\n",
        "\n",
        "$x_2 -> x_{i+1}$\n",
        "\n",
        "$x_3 -> x_{i+2}$\n",
        "\n",
        "$h_i = (x_{i+1}-x_i)$\n",
        "\n",
        "$h_{i+1} = (x_{i+2}-x_{i+1})$\n",
        "\n",
        "$S_{3,i}''(x_i)h_i + 2(h_i+h_{i+1})S_{3,i+1}''(x_{i+1}) + S_{3,i+2}''(x_{i+2})h_{i+1} = 6\\left[\\frac{(S_{3,i+2}(x_{i+2})-S_{3,i+1}(x_{i+1}))}{h_{i+1}} - \\frac{(S_{3,i+1}(x_{i+1})-S_{3,i}(x_i))}{h_i}\\right]$"
      ]
    },
    {
      "cell_type": "markdown",
      "metadata": {
        "id": "cu16Y84hi1wu",
        "colab_type": "text"
      },
      "source": [
        "### 6. Create a system of equations using this formula [Matrix representation. Mathematical formulas]"
      ]
    },
    {
      "cell_type": "markdown",
      "metadata": {
        "id": "RFW_-HUZFRBe",
        "colab_type": "text"
      },
      "source": [
        "$\\frac{1}{6}\\begin{bmatrix}\n",
        "h_1 & 2(h_1+h_2) & h_2 & 0 & .. & .. & 0\n",
        "\\\\ .. & .. & .. & .. & .. & .. & .. \\\\\n",
        ".. & 0 & h_i & 2(h_i+h_{i+1}) & h_{i+1} & 0 & ..\n",
        "\\\\ .. & .. & .. & .. & .. & .. & .. \\\\\n",
        "0 & .. & .. & 0 & h_{n-1} & 2(h_{n-1}+h_n) & h_n\n",
        "\\end{bmatrix}\n",
        "\\begin{bmatrix}\n",
        "m_0 \\\\ m_1 \\\\ .. \\\\ m_i \\\\ .. \\\\ m_{n-1} \\\\ m_n\n",
        "\\end{bmatrix}\n",
        "=\n",
        "\\begin{bmatrix}\n",
        "\\frac{\\Delta f_1}{h_2}-\\frac{\\Delta f_0}{h_1}\n",
        "\\\\ .. \\\\\n",
        "\\frac{\\Delta f_i}{h_{i+1}}-\\frac{\\Delta f_{i-1}}{h_i}\n",
        "\\\\ .. \\\\\n",
        "\\frac{\\Delta f_{n-1}}{h_n}-\\frac{\\Delta f_{n-2}}{h_{n-1}}\n",
        "\\end{bmatrix}$"
      ]
    },
    {
      "cell_type": "markdown",
      "metadata": {
        "id": "bjXip5qii1wy",
        "colab_type": "text"
      },
      "source": [
        "### 7. Explain what is an unknown variable in this system. whether the system is closed with respect to an unknown variable. What is missing for closure. [Text, no more than 200 characters]"
      ]
    },
    {
      "cell_type": "markdown",
      "metadata": {
        "id": "BJYofl57F-_F",
        "colab_type": "text"
      },
      "source": [
        "Unknown variables are $m_0$ and $m_n$ and the system is not closed because of them. For closure we need to define these border values $m_0$ and $m_n$."
      ]
    },
    {
      "cell_type": "markdown",
      "metadata": {
        "id": "DVBJGgmBi1w3",
        "colab_type": "text"
      },
      "source": [
        "### 8. Bring this matrix to the appropriate form to use the Tridiagonal matrix algorithm [Mathematical derivation. Use Gauss Elimination]"
      ]
    },
    {
      "cell_type": "markdown",
      "metadata": {
        "id": "xqL3qlbCISC0",
        "colab_type": "text"
      },
      "source": [
        "Using Gauss Elimination on matrix from question 6 we get:\n",
        "\n",
        "$\\begin{bmatrix}\n",
        "1 & -P_1 & 0 & 0 & .. & Q_1 \\\\\n",
        "0 & 1 & -P_2 & 0 & .. & Q_2 \\\\\n",
        "0 & 0 & 1 & -P_3 & .. & Q_3 \\\\\n",
        ".. & .. & .. & .. & .. & .. \\\\\n",
        "0 & 0 & 0 & 1 & .. & Q_{n-1} \n",
        "\\end{bmatrix}$\n",
        "\n",
        "where\n",
        "\n",
        "$P_1=\\frac{h_2}{-2(h_2+h_1)}$\n",
        "\n",
        "$Q_1=\\frac{6(\\frac{\\Delta f_1}{h_2}-\\frac{\\Delta f_0}{h_1})}{2(h_2+h_1)}$\n",
        "\n",
        "$P_i=\\frac{h_{i+1}}{-2(h_{i+1}+h_i)-h_iP_{i-1}}$\n",
        "\n",
        "$Q_i=\\frac{h_iQ_{i-1}-6(\\frac{\\Delta f_i}{h_{i+1}}-\\frac{\\Delta f_{i-1}}{h_i})}{-2(h_{i+1}+h_i)-h_iP_{i-1}}$"
      ]
    },
    {
      "cell_type": "markdown",
      "metadata": {
        "id": "UVBomIOGi1w7",
        "colab_type": "text"
      },
      "source": [
        "### 9. Derive formulas of direct pass and reverse pass of Tridiagonal matrix algorithm [Mathematical formals]"
      ]
    },
    {
      "cell_type": "markdown",
      "metadata": {
        "id": "_zzxipF4L1D9",
        "colab_type": "text"
      },
      "source": [
        "$\\alpha_ix_{i-1}-\\beta_ix_i+\\gamma_ix_{i+1}=\\delta_i$\n",
        "\n",
        "From above,\n",
        "\n",
        "Forward:\n",
        "\n",
        "$P_i=\\frac{\\gamma_i}{\\beta_i-\\alpha_iP_{i-1}}$\n",
        "\n",
        "$Q_i=\\frac{\\alpha_iQ_{i-1}-\\delta_i}{\\beta_i-\\alpha_iP_{i-1}}$\n",
        "\n",
        "Back:\n",
        "\n",
        "$x_n=\\frac{\\alpha_nQ_{n-1}-\\delta_n}{\\beta_n-\\alpha_nP_{n-1}}=Q_n$\n",
        "\n",
        "$x_i=P_ix_{i+1}+Q_i,i=\\overline{1,n-1}$\n",
        "\n",
        "\n"
      ]
    },
    {
      "cell_type": "markdown",
      "metadata": {
        "id": "fAk8yl-mi1xA",
        "colab_type": "text"
      },
      "source": [
        "### 10. Implement code prototype of the future algorithm implementation. Classes/methods (if you use OOP), functions. The final implementation (on language chosen by you) should not differ from the functions declared in the prototype. [Python code]"
      ]
    },
    {
      "cell_type": "code",
      "metadata": {
        "id": "zl9wKSKhi1xB",
        "colab_type": "code",
        "colab": {}
      },
      "source": [
        "def forward_back_pass(a, b, n):\n",
        "  pass\n",
        "\n",
        "def spline(x, f, n):\n",
        "  pass\n",
        "\n",
        "def main():\n",
        "  pass"
      ],
      "execution_count": 0,
      "outputs": []
    },
    {
      "cell_type": "markdown",
      "metadata": {
        "id": "bGEOShpVi1xD",
        "colab_type": "text"
      },
      "source": [
        "### 11. Derive formula of Cubic Spline method error [Mathematical formulas]"
      ]
    },
    {
      "cell_type": "markdown",
      "metadata": {
        "id": "EjUCThb3R22I",
        "colab_type": "text"
      },
      "source": [
        "Let the function $y = f(x)$ have a fourth-order continuous derivative on the interval $[a, b]$ and $M_4 = max_{[a, b]}|f^{(4)}(x)|$. Then, for cubic spline $S_3(x)$, satisfying the boundary conditions, the following error estimate holds: $max_{[a, b]}|f^{(p)}(x)-S_3^{(p)}(x)|≤С_pM_4h_{max}^{4-p},p=[1,2,3],h_{max}=max_{1≤i≤ n}h_i$"
      ]
    },
    {
      "cell_type": "markdown",
      "metadata": {
        "id": "0bT43Dtqi1xH",
        "colab_type": "text"
      },
      "source": [
        "### 12. Rate the complexity of the algorithm [Text, and rate in terms of big O, no more than 100 characters]"
      ]
    },
    {
      "cell_type": "markdown",
      "metadata": {
        "id": "0yEKolRzNQEl",
        "colab_type": "text"
      },
      "source": [
        "Forward pass works in $n$, backward pass works in $n$. Therefore, complexity is $O(2n)=O(n)$ "
      ]
    },
    {
      "cell_type": "markdown",
      "metadata": {
        "id": "Cxbowk_Mi1xJ",
        "colab_type": "text"
      },
      "source": [
        "### Congrats!"
      ]
    }
  ]
}