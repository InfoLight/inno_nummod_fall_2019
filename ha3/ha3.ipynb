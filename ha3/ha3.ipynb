{
  "nbformat": 4,
  "nbformat_minor": 0,
  "metadata": {
    "kernelspec": {
      "display_name": "Python 3",
      "language": "python",
      "name": "python3"
    },
    "language_info": {
      "codemirror_mode": {
        "name": "ipython",
        "version": 3
      },
      "file_extension": ".py",
      "mimetype": "text/x-python",
      "name": "python",
      "nbconvert_exporter": "python",
      "pygments_lexer": "ipython3",
      "version": "3.6.8"
    },
    "colab": {
      "name": "ha3.ipynb",
      "provenance": []
    }
  },
  "cells": [
    {
      "cell_type": "code",
      "metadata": {
        "id": "_0DrjDVlX4Eb",
        "colab_type": "code",
        "colab": {}
      },
      "source": [
        "import sympy as sp\n",
        "import numpy as np\n",
        "import matplotlib.pyplot as plt"
      ],
      "execution_count": 0,
      "outputs": []
    },
    {
      "cell_type": "markdown",
      "metadata": {
        "id": "9bKFum3pX4Eg",
        "colab_type": "text"
      },
      "source": [
        "### 1. Derive formula of $L_{2}(x)$ in terms of interpolation phase $ u = \\frac{x - x_{i}}{h} $.  Integrate $ \\hat{I_{i}^{i+2}}$ with received formula as integrand  [mathematical formula]. Usetimation time: ~30m"
      ]
    },
    {
      "cell_type": "markdown",
      "metadata": {
        "id": "-XSFYGZ8X4Eh",
        "colab_type": "text"
      },
      "source": [
        "**Note** Use constant step $h = const$ and condition *number of segments is even* $n = 2k$"
      ]
    },
    {
      "cell_type": "markdown",
      "metadata": {
        "id": "OU4IKIkQYniU",
        "colab_type": "text"
      },
      "source": [
        "$L_2(x) = \\frac{(x-x_{i+1})(x-x_{i+2})}{(x_i - x_{i+1})(x_i-x_{i+2})}f_i + \\frac{(x-x_{i})(x-x_{i+2})}{(x_{i+1} - x_{i})(x_{i+1}-x_{i+2})}f_{i+1} + \\frac{(x-x_{i})(x-x_{i+1})}{(x_{i+2} - x_{i})(x_{i+2}-x_{i+1})}f_{i+2}=\\frac{1}{2}(u^2 - 3u +2)f_i -(u^2 - 2u)f_{i+1} + \\frac{1}{2}(u^2-u)f_{i+2}$\n",
        "\n",
        "$\\hat{I}_i^{i+2}=\\int\\limits_{0}^{2}L_2(x)dx=\\frac{h}{3}(f_i + 4f_{i+1} + f_{i+2})$\n",
        "\n"
      ]
    },
    {
      "cell_type": "markdown",
      "metadata": {
        "id": "ef5lcByWX4Em",
        "colab_type": "text"
      },
      "source": [
        "### 2. Explain how used condition $n = 2k$ helps us in integration. If we want to use odd number of segments we have to integrate with even number of segments but add the value $I_{n-1}^n$. What is the calculation accuracy order of $I_{n-1}^n$? Why? Explain both. [mathematical formula]. Usetimation time: ~30m"
      ]
    },
    {
      "cell_type": "markdown",
      "metadata": {
        "id": "eqPyB7tbENlZ",
        "colab_type": "text"
      },
      "source": [
        "3 points are used for approximations, resulting 2 segments between these three points. $n = 2k$ helps us to calculate all the parts with the same formula (guarantees even number of segments). In case if there were odd number of segments, then we had to calculate last segment and change formula by adding $I_{n-1}^{n}$ to it.\n",
        "\n",
        "Calculation accuracy order of $I_{n-1}^{n}$ = $O(h^5)$ (Newton-Cotes and Simpson's formula used, both of which accuracies are $O(h^5)$)"
      ]
    },
    {
      "cell_type": "markdown",
      "metadata": {
        "id": "jzNNMjp-X4Er",
        "colab_type": "text"
      },
      "source": [
        "### 3. Derive the formula of whole $\\hat{I_{a}^{b}}$. Summarize all integrals on segments $\\hat{I_{i}^{i+1}}$ for even case, and for odd case. [mathematical formula]. Usetimation time: ~30m"
      ]
    },
    {
      "cell_type": "markdown",
      "metadata": {
        "id": "7K6IkuhxHrBQ",
        "colab_type": "text"
      },
      "source": [
        "Even case:\n",
        "\n",
        "$\\frac{h}{3}(f_0+4\\sum_{i=1}^{k}f_{2i-1}+2\\sum_{i=1}^{k-1}f_{2i}+f_{2k})$\n",
        "\n",
        "Odd case:\n",
        "\n",
        "$ \\frac {h} {3} (f_0 + 4{\\sum \\limits_{i=0.5}^{k-0.5}f_{2i}} + 2{\\sum \\limits_{i=1}^{k-1}f_{2i}} + f_n-1) + \\frac{h}{24}(f_{n-3} - 5f_{n-2} + 19f_{n-1} + 9f_n) $"
      ]
    },
    {
      "cell_type": "markdown",
      "metadata": {
        "id": "LLIhPoMvX4Ew",
        "colab_type": "text"
      },
      "source": [
        "### 4. Derive the formula of trapezoid quadrature formula error estimation. Use Taylor series expansion for antiderivative $F_{i+1}$ and $f_{i+1}$  [mathematical formula] Usetimation time: ~30m"
      ]
    },
    {
      "cell_type": "markdown",
      "metadata": {
        "id": "YLhLfc6WJP1f",
        "colab_type": "text"
      },
      "source": [
        "Taylor expansion: $F_{i+1} = F_i + h_{i+1}f_i + \\frac {h_{i+1}^2} {2}f_i' + \\frac {h_{i+1}^3} {6}f_i''(\\xi_i)$ , $f_{i+1} = f_i + h_{i+1}f_i' + \\frac {h_{i+1}^2} {2}f_i''(\\xi_i)$  \n",
        "\n",
        "\n",
        "\n",
        "$I_{i}^{i+1} - \\hat{I}^{i+1}_i = F_{i+1} - F_i - \\frac{h_{i+1}}{2}(f_i+ f_{i+1}) = \\frac{h^3_{i+1}}{6}f''(\\xi) - \\frac{h^3_{i+1}}{4}f''(\\xi) = -\\frac{1}{12}h^3_{i+1}f''(\\xi)$"
      ]
    },
    {
      "cell_type": "markdown",
      "metadata": {
        "id": "iGR99HGfX4E0",
        "colab_type": "text"
      },
      "source": [
        "### Congrats!"
      ]
    }
  ]
}